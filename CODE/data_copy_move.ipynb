{
 "cells": [
  {
   "cell_type": "code",
   "execution_count": 5,
   "id": "65a48f87",
   "metadata": {},
   "outputs": [],
   "source": [
    "import os\n",
    "import numpy as np\n",
    "from PIL import Image\n",
    "import json\n",
    "import tensorflow as tf\n",
    "import cv2\n",
    "import random"
   ]
  },
  {
   "cell_type": "markdown",
   "id": "d26fd1a2",
   "metadata": {},
   "source": [
    "### training directories"
   ]
  },
  {
   "cell_type": "code",
   "execution_count": null,
   "id": "b378153f",
   "metadata": {},
   "outputs": [],
   "source": [
    "import os\n",
    "\n",
    "directories = [\n",
    "    'aiffel/blackbox/preprocessed_training/원천데이터/TS_damage_part_demo',\n",
    "    'aiffel/blackbox/preprocessed_training/원천데이터/TS_damage_part_val',\n",
    "    'aiffel/blackbox/preprocessed_training/원천데이터/TS_damage_demo',\n",
    "    'aiffel/blackbox/preprocessed_training/원천데이터/TS_damage_val',\n",
    "    'aiffel/blackbox/preprocessed_training/라벨링데이터/TL_damage_part_demo',\n",
    "    'aiffel/blackbox/preprocessed_training/라벨링데이터/TL_damage_part_val',\n",
    "    'aiffel/blackbox/preprocessed_training/라벨링데이터/TL_damage_demo',\n",
    "    'aiffel/blackbox/preprocessed_training/라벨링데이터/TL_damage_val'\n",
    "]\n",
    "\n",
    "for directory in directories:\n",
    "    os.makedirs(os.path.join(os.getenv('HOME'), directory))"
   ]
  },
  {
   "cell_type": "markdown",
   "id": "4eab4fb2",
   "metadata": {},
   "source": [
    "### Validation directories"
   ]
  },
  {
   "cell_type": "code",
   "execution_count": null,
   "id": "110b7423",
   "metadata": {},
   "outputs": [],
   "source": []
  },
  {
   "cell_type": "code",
   "execution_count": 4,
   "id": "1ea01634",
   "metadata": {},
   "outputs": [
    {
     "name": "stdout",
     "output_type": "stream",
     "text": [
      "file_list_Val_TS_damage_part : 17248\n"
     ]
    }
   ],
   "source": [
    "import os\n",
    "\n",
    "dir_path_VS_damage_part = os.getenv('HOME')+'/aiffel/blackbox/Validation/원천데이터/VS_damage_part'\n",
    "file_list_VS_damage_part = os.listdir(dir_path_VS_damage_part)\n",
    "print(\"file_list_Val_TS_damage_part :\",len(file_list_VS_damage_part))"
   ]
  },
  {
   "cell_type": "code",
   "execution_count": 7,
   "id": "69446843",
   "metadata": {},
   "outputs": [
    {
     "name": "stdout",
     "output_type": "stream",
     "text": [
      "file_list_Val_VL_damage_part : 17248\n"
     ]
    }
   ],
   "source": [
    "dir_path_VL_damage_part = os.getenv('HOME')+'/aiffel/blackbox/Validation/라벨링데이터/VL_damage_part'\n",
    "file_list_VL_damage_part = os.listdir(dir_path_VL_damage_part)\n",
    "print(\"file_list_Val_VL_damage_part :\",len(file_list_VL_damage_part))"
   ]
  },
  {
   "cell_type": "markdown",
   "id": "4e64ab65",
   "metadata": {},
   "source": [
    "### 전처리 된 파일리스트 변수 선언 코드"
   ]
  },
  {
   "cell_type": "code",
   "execution_count": 4,
   "id": "9c4263f6",
   "metadata": {},
   "outputs": [
    {
     "name": "stdout",
     "output_type": "stream",
     "text": [
      "file_list_pre_TS_damage_part : 32993\n",
      "file_list_pre_TS_damage : 50759\n",
      "file_list_pre_TL_damage_part : 32993\n",
      "file_list_pre_TL_damage : 50759\n",
      "견적서 파일 개수 : 24012\n"
     ]
    }
   ],
   "source": [
    "#전처리 된 파일리스트 변수 선언 코드\n",
    "\n",
    "dir_path_pre_TS_damage_part = os.getenv('HOME')+'/aiffel/blackbox/preprocessed_training/원천데이터/TS_damage_part'\n",
    "file_list_pre_TS_damage_part = os.listdir(dir_path_pre_TS_damage_part)\n",
    "print(\"file_list_pre_TS_damage_part :\",len(file_list_pre_TS_damage_part))\n",
    "\n",
    "dir_path_pre_TS_damage = os.getenv('HOME')+'/aiffel/blackbox/preprocessed_training/원천데이터/TS_damage'\n",
    "file_list_pre_TS_damage = os.listdir(dir_path_pre_TS_damage)\n",
    "print(\"file_list_pre_TS_damage :\",len(file_list_pre_TS_damage))\n",
    "\n",
    "dir_path_pre_TL_damage_part = os.getenv('HOME')+'/aiffel/blackbox/preprocessed_training/라벨링데이터/TL_damage_part'\n",
    "file_list_pre_TL_damage_part = os.listdir(dir_path_pre_TL_damage_part)\n",
    "print(\"file_list_pre_TL_damage_part :\",len(file_list_pre_TL_damage_part))\n",
    "\n",
    "dir_path_pre_TL_damage = os.getenv('HOME')+'/aiffel/blackbox/preprocessed_training/라벨링데이터/TL_damage'\n",
    "file_list_pre_TL_damage = os.listdir(dir_path_pre_TL_damage)\n",
    "print(\"file_list_pre_TL_damage :\",len(file_list_pre_TL_damage))\n",
    "\n",
    "dir_path_pre_견적서 = os.getenv('HOME')+'/aiffel/blackbox/preprocessed_training/원천데이터/견적서'\n",
    "file_list_pre_견적서 = os.listdir(dir_path_pre_견적서)\n",
    "print(\"견적서 파일 개수 :\",len(file_list_pre_견적서))"
   ]
  },
  {
   "cell_type": "markdown",
   "id": "baa58032",
   "metadata": {},
   "source": [
    "## TS_damage_part TL_damage_part 10000개 추출"
   ]
  },
  {
   "cell_type": "code",
   "execution_count": 3,
   "id": "38e3b2fc",
   "metadata": {},
   "outputs": [],
   "source": [
    "import os\n",
    "import random\n",
    "import shutil\n",
    "\n",
    "dir_path_pre_TS_damage_part = os.getenv('HOME')+'/aiffel/blackbox/preprocessed_training/원천데이터/TS_damage_part'\n",
    "\n",
    "# 디렉토리에서 파일 리스트 불러오기\n",
    "file_list_TS_damage_part = os.listdir(dir_path_pre_TS_damage_part)\n",
    "\n",
    "# 랜덤하게 10000개 파일 선택하기\n",
    "random_files_TS_damage_part = random.sample(file_list_pre_TS_damage_part, 10000)\n",
    "\n",
    "# 파일 복사하기\n",
    "for file_name in random_files_TS_damage_part:\n",
    "    src_file_path = os.path.join(dir_path_pre_TS_damage_part, file_name)\n",
    "    dst_file_path = os.path.join(os.getenv('HOME')+'/aiffel/blackbox/preprocessed_training/원천데이터/TS_damage_part_demo', file_name)\n",
    "    shutil.copy(src_file_path, dst_file_path)\n",
    "    \n",
    "\n",
    "\n",
    "random_files_TL_damage_part = [os.path.splitext(file_name)[0] + '.json' for file_name in random_files_TS_damage_part]\n",
    "\n",
    "for file_name in random_files_TL_damage_part:\n",
    "    src_file_path = os.path.join(dir_path_pre_TL_damage_part, file_name)\n",
    "    dst_file_path = os.path.join(os.getenv('HOME')+'/aiffel/blackbox/preprocessed_training/라벨링데이터/TL_damage_part_demo', file_name)\n",
    "    shutil.copy(src_file_path, dst_file_path)\n"
   ]
  },
  {
   "cell_type": "code",
   "execution_count": 4,
   "id": "7a9be718",
   "metadata": {},
   "outputs": [
    {
     "name": "stdout",
     "output_type": "stream",
     "text": [
      "file_list_pre_TS_damage_part_demo : 10000\n",
      "file_list_pre_TL_damage_part_demo : 10000\n"
     ]
    }
   ],
   "source": [
    "dir_path_pre_TS_damage_part_demo = os.getenv('HOME')+'/aiffel/blackbox/preprocessed_training/원천데이터/TS_damage_part_demo'\n",
    "file_list_pre_TS_damage_part_demo = os.listdir(dir_path_pre_TS_damage_part_demo)\n",
    "\n",
    "dir_path_pre_TL_damage_part_demo = os.getenv('HOME')+'/aiffel/blackbox/preprocessed_training/라벨링데이터/TL_damage_part_demo'\n",
    "file_list_pre_TL_damage_part_demo = os.listdir(dir_path_pre_TS_damage_part_demo)\n",
    "\n",
    "print(\"file_list_pre_TS_damage_part_demo :\",len(file_list_pre_TS_damage_part_demo))\n",
    "print(\"file_list_pre_TL_damage_part_demo :\",len(file_list_pre_TL_damage_part_demo))\n",
    "# # 결과 출력하기\n",
    "# print(random_files_TS_damage_part)"
   ]
  },
  {
   "cell_type": "markdown",
   "id": "02345a06",
   "metadata": {},
   "source": [
    "### 랜덤하게 원하는 개수의 파일 이동하기"
   ]
  },
  {
   "cell_type": "code",
   "execution_count": 1,
   "id": "b392ff32",
   "metadata": {},
   "outputs": [],
   "source": [
    "import os\n",
    "import random\n",
    "import shutil\n",
    "\n",
    "# 원본 디렉토리 경로\n",
    "dir_path_pre_TS_damage_part_demo = os.getenv('HOME')+'/aiffel/blackbox/preprocessed_training/원천데이터/TS_damage_part_demo'\n",
    "dir_path_pre_TL_damage_part_demo = os.getenv('HOME')+'/aiffel/blackbox/preprocessed_training/라벨링데이터/TL_damage_part_demo'\n",
    "\n",
    "# 랜덤하게 선택할 파일 개수\n",
    "num_files = 2000\n",
    "\n",
    "# 디렉토리에서 파일 리스트 불러오기\n",
    "file_list_TS_damage_part_demo = os.listdir(dir_path_pre_TS_damage_part_demo)\n",
    "\n",
    "# 랜덤하게 파일 선택하기\n",
    "random_files_TS_damage_part_demo = random.sample(file_list_TS_damage_part_demo, num_files)\n",
    "\n",
    "# 파일 이동하기\n",
    "for file_name in random_files_TS_damage_part_demo:\n",
    "    src_file_path = os.path.join(dir_path_pre_TS_damage_part_demo, file_name)\n",
    "    dst_file_path = os.path.join(os.getenv('HOME')+'/aiffel/blackbox/preprocessed_training/원천데이터/TS_damage_part_val', file_name)\n",
    "    shutil.move(src_file_path, dst_file_path)\n",
    "\n",
    "    # 같은 이름의 json 파일도 함께 이동시킴\n",
    "    json_file_name = os.path.splitext(file_name)[0] + '.json'\n",
    "    src_json_path = os.path.join(dir_path_pre_TL_damage_part_demo, json_file_name)\n",
    "    dst_json_path = os.path.join(os.getenv('HOME')+'/aiffel/blackbox/preprocessed_training/라벨링데이터/TL_damage_part_val', json_file_name)\n",
    "    shutil.move(src_json_path, dst_json_path)"
   ]
  },
  {
   "cell_type": "code",
   "execution_count": 2,
   "id": "6d4dbd4f",
   "metadata": {},
   "outputs": [
    {
     "name": "stdout",
     "output_type": "stream",
     "text": [
      "file_list_pre_TS_damage_part_demo : 8000\n",
      "file_list_pre_TL_damage_part_demo : 8000\n"
     ]
    }
   ],
   "source": [
    "dir_path_pre_TS_damage_part_demo = os.getenv('HOME')+'/aiffel/blackbox/preprocessed_training/원천데이터/TS_damage_part_demo'\n",
    "file_list_pre_TS_damage_part_demo = os.listdir(dir_path_pre_TS_damage_part_demo)\n",
    "\n",
    "dir_path_pre_TL_damage_part_demo = os.getenv('HOME')+'/aiffel/blackbox/preprocessed_training/라벨링데이터/TL_damage_part_demo'\n",
    "file_list_pre_TL_damage_part_demo = os.listdir(dir_path_pre_TS_damage_part_demo)\n",
    "\n",
    "print(\"file_list_pre_TS_damage_part_demo :\",len(file_list_pre_TS_damage_part_demo))\n",
    "print(\"file_list_pre_TL_damage_part_demo :\",len(file_list_pre_TL_damage_part_demo))\n",
    "# # 결과 출력하기\n",
    "# print(random_files_TS_damage_part)"
   ]
  },
  {
   "cell_type": "code",
   "execution_count": 3,
   "id": "6708e546",
   "metadata": {},
   "outputs": [
    {
     "name": "stdout",
     "output_type": "stream",
     "text": [
      "file_list_pre_TS_damage_part_val : 2000\n",
      "file_list_pre_TL_damage_part_val : 2000\n"
     ]
    }
   ],
   "source": [
    "dir_path_pre_TS_damage_part_val = os.getenv('HOME')+'/aiffel/blackbox/preprocessed_training/원천데이터/TS_damage_part_val'\n",
    "file_list_pre_TS_damage_part_val = os.listdir(dir_path_pre_TS_damage_part_val)\n",
    "\n",
    "dir_path_pre_TL_damage_part_val = os.getenv('HOME')+'/aiffel/blackbox/preprocessed_training/라벨링데이터/TL_damage_part_val'\n",
    "file_list_pre_TL_damage_part_val = os.listdir(dir_path_pre_TS_damage_part_val)\n",
    "\n",
    "print(\"file_list_pre_TS_damage_part_val :\",len(file_list_pre_TS_damage_part_val))\n",
    "print(\"file_list_pre_TL_damage_part_val :\",len(file_list_pre_TL_damage_part_val))\n",
    "# # 결과 출력하기\n",
    "# print(random_files_TS_damage_part)"
   ]
  },
  {
   "cell_type": "markdown",
   "id": "3b46a9e2",
   "metadata": {},
   "source": [
    "## TS_damage, TL_damage 10000개 추출"
   ]
  },
  {
   "cell_type": "markdown",
   "id": "d09501a7",
   "metadata": {},
   "source": [
    "### 10000개 파일 복사"
   ]
  },
  {
   "cell_type": "code",
   "execution_count": 5,
   "id": "ba053c5d",
   "metadata": {},
   "outputs": [],
   "source": [
    "import os\n",
    "import random\n",
    "import shutil\n",
    "\n",
    "dir_path_pre_TS_damage = os.getenv('HOME')+'/aiffel/blackbox/preprocessed_training/원천데이터/TS_damage'\n",
    "\n",
    "# 디렉토리에서 파일 리스트 불러오기\n",
    "file_list_TS_damage = os.listdir(dir_path_pre_TS_damage)\n",
    "\n",
    "# 랜덤하게 10000개 파일 선택하기\n",
    "random_files_TS_damage = random.sample(file_list_pre_TS_damage, 10000)\n",
    "\n",
    "# 파일 복사하기\n",
    "for file_name in random_files_TS_damage:\n",
    "    src_file_path = os.path.join(dir_path_pre_TS_damage, file_name)\n",
    "    dst_file_path = os.path.join(os.getenv('HOME')+'/aiffel/blackbox/preprocessed_training/원천데이터/TS_damage_demo', file_name)\n",
    "    shutil.copy(src_file_path, dst_file_path)\n",
    "    \n",
    "\n",
    "\n",
    "random_files_TL_damage = [os.path.splitext(file_name)[0] + '.json' for file_name in random_files_TS_damage]\n",
    "\n",
    "for file_name in random_files_TL_damage:\n",
    "    src_file_path = os.path.join(dir_path_pre_TL_damage, file_name)\n",
    "    dst_file_path = os.path.join(os.getenv('HOME')+'/aiffel/blackbox/preprocessed_training/라벨링데이터/TL_damage_demo', file_name)\n",
    "    shutil.copy(src_file_path, dst_file_path)\n"
   ]
  },
  {
   "cell_type": "markdown",
   "id": "815e291c",
   "metadata": {},
   "source": [
    "### 개수 10000개 확인"
   ]
  },
  {
   "cell_type": "code",
   "execution_count": 8,
   "id": "ad2da105",
   "metadata": {},
   "outputs": [
    {
     "name": "stdout",
     "output_type": "stream",
     "text": [
      "file_list_pre_TS_damage_demo : 10000\n",
      "file_list_pre_TL_damage_demo : 10000\n"
     ]
    }
   ],
   "source": [
    "dir_path_pre_TS_damage_demo = os.getenv('HOME')+'/aiffel/blackbox/preprocessed_training/원천데이터/TS_damage_demo'\n",
    "file_list_pre_TS_damage_demo = os.listdir(dir_path_pre_TS_damage_demo)\n",
    "\n",
    "dir_path_pre_TL_damage_demo = os.getenv('HOME')+'/aiffel/blackbox/preprocessed_training/라벨링데이터/TL_damage_demo'\n",
    "file_list_pre_TL_damage_demo = os.listdir(dir_path_pre_TS_damage_demo)\n",
    "\n",
    "print(\"file_list_pre_TS_damage_demo :\",len(file_list_pre_TS_damage_demo))\n",
    "print(\"file_list_pre_TL_damage_demo :\",len(file_list_pre_TL_damage_demo))\n",
    "# # 결과 출력하기\n",
    "# print(random_files_TS_damage_part)"
   ]
  },
  {
   "cell_type": "markdown",
   "id": "493414f8",
   "metadata": {},
   "source": [
    "### 2000개 파일 이동"
   ]
  },
  {
   "cell_type": "code",
   "execution_count": 10,
   "id": "f8fdb57f",
   "metadata": {},
   "outputs": [],
   "source": [
    "import os\n",
    "import random\n",
    "import shutil\n",
    "\n",
    "# 원본 디렉토리 경로\n",
    "dir_path_pre_TS_damage_demo = os.getenv('HOME')+'/aiffel/blackbox/preprocessed_training/원천데이터/TS_damage_demo'\n",
    "dir_path_pre_TL_damage_demo = os.getenv('HOME')+'/aiffel/blackbox/preprocessed_training/라벨링데이터/TL_damage_demo'\n",
    "\n",
    "# 랜덤하게 선택할 파일 개수\n",
    "num_files = 2000\n",
    "\n",
    "# 디렉토리에서 파일 리스트 불러오기\n",
    "file_list_TS_damage_demo = os.listdir(dir_path_pre_TS_damage_demo)\n",
    "\n",
    "# 랜덤하게 파일 선택하기\n",
    "random_files_TS_damage_demo = random.sample(file_list_TS_damage_demo, num_files)\n",
    "\n",
    "# 파일 이동하기\n",
    "for file_name in random_files_TS_damage_demo:\n",
    "    src_file_path = os.path.join(dir_path_pre_TS_damage_demo, file_name)\n",
    "    dst_file_path = os.path.join(os.getenv('HOME')+'/aiffel/blackbox/preprocessed_training/원천데이터/TS_damage_val', file_name)\n",
    "    shutil.move(src_file_path, dst_file_path)\n",
    "\n",
    "    # 같은 이름의 json 파일도 함께 이동시킴\n",
    "    json_file_name = os.path.splitext(file_name)[0] + '.json'\n",
    "    src_json_path = os.path.join(dir_path_pre_TL_damage_demo, json_file_name)\n",
    "    dst_json_path = os.path.join(os.getenv('HOME')+'/aiffel/blackbox/preprocessed_training/라벨링데이터/TL_damage_val', json_file_name)\n",
    "    shutil.move(src_json_path, dst_json_path)"
   ]
  },
  {
   "cell_type": "code",
   "execution_count": null,
   "id": "1e4f46bf",
   "metadata": {},
   "outputs": [],
   "source": []
  },
  {
   "cell_type": "markdown",
   "id": "8039400e",
   "metadata": {},
   "source": [
    "## VS_damage_part VL_damage_part 7500개 추출"
   ]
  },
  {
   "cell_type": "code",
   "execution_count": 8,
   "id": "e3778503",
   "metadata": {},
   "outputs": [],
   "source": [
    "import os\n",
    "import random\n",
    "import shutil\n",
    "\n",
    "dir_path_VS_damage_part = os.getenv('HOME')+'/aiffel/blackbox/Validation/원천데이터/VS_damage_part'\n",
    "\n",
    "# 디렉토리에서 파일 리스트 불러오기\n",
    "file_list_VS_damage_part = os.listdir(dir_path_VS_damage_part)\n",
    "\n",
    "# 랜덤하게 7500개 파일 선택하기\n",
    "random_files_VS_damage_part = random.sample(file_list_VS_damage_part, 7500)\n",
    "\n",
    "# 파일 복사하기\n",
    "for file_name in random_files_VS_damage_part:\n",
    "    src_file_path = os.path.join(dir_path_VS_damage_part, file_name)\n",
    "    dst_file_path = os.path.join(os.getenv('HOME')+'/aiffel/blackbox/Validation/원천데이터/VS_damage_part_7500', file_name)\n",
    "    shutil.copy(src_file_path, dst_file_path)\n",
    "    \n",
    "\n",
    "\n",
    "random_files_VL_damage_part = [os.path.splitext(file_name)[0] + '.json' for file_name in random_files_VS_damage_part]\n",
    "\n",
    "for file_name in random_files_VL_damage_part:\n",
    "    src_file_path = os.path.join(dir_path_VL_damage_part, file_name)\n",
    "    dst_file_path = os.path.join(os.getenv('HOME')+'/aiffel/blackbox/Validation/라벨링데이터/VL_damage_part_7500', file_name)\n",
    "    shutil.copy(src_file_path, dst_file_path)"
   ]
  },
  {
   "cell_type": "code",
   "execution_count": 9,
   "id": "f59875dc",
   "metadata": {},
   "outputs": [
    {
     "name": "stdout",
     "output_type": "stream",
     "text": [
      "file_list_Val_TS_damage_part_7500 : 7500\n",
      "file_list_Val_VL_damage_part_7500 : 7500\n"
     ]
    }
   ],
   "source": [
    "dir_path_VS_damage_part_7500 = os.getenv('HOME')+'/aiffel/blackbox/Validation/원천데이터/VS_damage_part_7500'\n",
    "file_list_VS_damage_part_7500 = os.listdir(dir_path_VS_damage_part_7500)\n",
    "print(\"file_list_Val_TS_damage_part_7500 :\",len(file_list_VS_damage_part_7500))\n",
    "\n",
    "dir_path_VL_damage_part_7500 = os.getenv('HOME')+'/aiffel/blackbox/Validation/라벨링데이터/VL_damage_part_7500'\n",
    "file_list_VL_damage_part_7500 = os.listdir(dir_path_VL_damage_part_7500)\n",
    "print(\"file_list_Val_VL_damage_part_7500 :\",len(file_list_VL_damage_part_7500))"
   ]
  },
  {
   "cell_type": "code",
   "execution_count": null,
   "id": "3a65a0d0",
   "metadata": {},
   "outputs": [],
   "source": []
  },
  {
   "cell_type": "markdown",
   "id": "25434cc1",
   "metadata": {},
   "source": [
    "### 최종 개수 확인"
   ]
  },
  {
   "cell_type": "code",
   "execution_count": 11,
   "id": "499dff02",
   "metadata": {},
   "outputs": [
    {
     "name": "stdout",
     "output_type": "stream",
     "text": [
      "file_list_pre_TS_damage_demo : 8000\n",
      "file_list_pre_TL_damage_demo : 8000\n"
     ]
    }
   ],
   "source": [
    "dir_path_pre_TS_damage_demo = os.getenv('HOME')+'/aiffel/blackbox/preprocessed_training/원천데이터/TS_damage_demo'\n",
    "file_list_pre_TS_damage_demo = os.listdir(dir_path_pre_TS_damage_demo)\n",
    "\n",
    "dir_path_pre_TL_damage_demo = os.getenv('HOME')+'/aiffel/blackbox/preprocessed_training/라벨링데이터/TL_damage_demo'\n",
    "file_list_pre_TL_damage_demo = os.listdir(dir_path_pre_TS_damage_demo)\n",
    "\n",
    "print(\"file_list_pre_TS_damage_demo :\",len(file_list_pre_TS_damage_demo))\n",
    "print(\"file_list_pre_TL_damage_demo :\",len(file_list_pre_TL_damage_demo))\n",
    "# # 결과 출력하기\n",
    "# print(random_files_TS_damage)"
   ]
  },
  {
   "cell_type": "code",
   "execution_count": 12,
   "id": "f4ccd77b",
   "metadata": {},
   "outputs": [
    {
     "name": "stdout",
     "output_type": "stream",
     "text": [
      "file_list_pre_TS_damage_val : 2000\n",
      "file_list_pre_TL_damage_val : 2000\n"
     ]
    }
   ],
   "source": [
    "dir_path_pre_TS_damage_val = os.getenv('HOME')+'/aiffel/blackbox/preprocessed_training/원천데이터/TS_damage_val'\n",
    "file_list_pre_TS_damage_val = os.listdir(dir_path_pre_TS_damage_val)\n",
    "\n",
    "dir_path_pre_TL_damage_val = os.getenv('HOME')+'/aiffel/blackbox/preprocessed_training/라벨링데이터/TL_damage_val'\n",
    "file_list_pre_TL_damage_val = os.listdir(dir_path_pre_TS_damage_val)\n",
    "\n",
    "print(\"file_list_pre_TS_damage_val :\",len(file_list_pre_TS_damage_val))\n",
    "print(\"file_list_pre_TL_damage_val :\",len(file_list_pre_TL_damage_val))\n",
    "# # 결과 출력하기\n",
    "# print(random_files_TS_damage_part)"
   ]
  },
  {
   "cell_type": "code",
   "execution_count": null,
   "id": "cd122d27",
   "metadata": {},
   "outputs": [],
   "source": []
  }
 ],
 "metadata": {
  "kernelspec": {
   "display_name": "Python 3 (ipykernel)",
   "language": "python",
   "name": "python3"
  },
  "language_info": {
   "codemirror_mode": {
    "name": "ipython",
    "version": 3
   },
   "file_extension": ".py",
   "mimetype": "text/x-python",
   "name": "python",
   "nbconvert_exporter": "python",
   "pygments_lexer": "ipython3",
   "version": "3.9.7"
  }
 },
 "nbformat": 4,
 "nbformat_minor": 5
}
