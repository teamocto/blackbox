{
 "cells": [
  {
   "cell_type": "code",
   "execution_count": 1,
   "id": "b1a08076",
   "metadata": {},
   "outputs": [],
   "source": [
    "#폴더 만들기"
   ]
  },
  {
   "cell_type": "code",
   "execution_count": null,
   "id": "a16d8233",
   "metadata": {},
   "outputs": [],
   "source": [
    "import os\n",
    "import shutil\n",
    "\n",
    "# 폴더 경로 설정\n",
    "current_path = '/aiffel/aiffel/blackbox'\n",
    "new_path = '/aiffel/aiffel/blackbox/clean'\n",
    "folders = ['origin_jpg_train', 'mask_json_train', 'origin_jpg_val', 'mask_json_val']\n",
    "\n",
    "# 새로운 폴더 구조 생성\n",
    "os.makedirs(new_path, exist_ok=True)\n",
    "for folder in folders:\n",
    "    os.makedirs(os.path.join(new_path, folder), exist_ok=True)\n",
    "\n",
    "# 파일 이동\n",
    "for folder in folders:\n",
    "    files = os.listdir(os.path.join(current_path, folder))\n",
    "    for file_name in files:\n",
    "        src_path = os.path.join(current_path, folder, file_name)\n",
    "        dst_path = os.path.join(new_path, folder, file_name)\n",
    "        shutil.move(src_path, dst_path)\n"
   ]
  },
  {
   "cell_type": "code",
   "execution_count": null,
   "id": "d8e0c2db",
   "metadata": {},
   "outputs": [],
   "source": [
    "#'/aiffel/aiffel/blackbox/origin_jpg_train_list.txt', \n",
    "#'/aiffel/aiffel/blackbox/origin_jpg_val_list.txt', \n",
    "#'/aiffel/aiffel/blackbox/mask_json_train_list.txt', \n",
    "#'/aiffel/aiffel/blackbox/mask_json_val_list.txt'\n",
    "#파일이 있다고 가정하고 진행합니다. 꼭 노션 블랙박스 들어가셔서 다운로드 후 진행해주세요.\n",
    "\n",
    "#txt파일을 blackbox에 들어있다고 가정하고, 진행합니다.\n",
    "#txt파일을 blackbox에 들어있다고 가정하고, 진행합니다.\n",
    "#txt파일을 blackbox에 들어있다고 가정하고, 진행합니다.\n",
    "#txt파일을 blackbox에 들어있다고 가정하고, 진행합니다.\n",
    "#txt파일을 blackbox에 들어있다고 가정하고, 진행합니다.\n",
    "#txt파일을 blackbox에 들어있다고 가정하고, 진행합니다.\n",
    "#txt파일을 blackbox에 들어있다고 가정하고, 진행합니다."
   ]
  },
  {
   "cell_type": "code",
   "execution_count": null,
   "id": "590c0334",
   "metadata": {},
   "outputs": [],
   "source": [
    "# /aiffel/aiffel/blackbox/origin_jpg_train_list.txt 파일 안에 있는 파일 이름과 \n",
    "# /aiffel/aiffel/blackbox/preprocessed_training/원천데이터/TS_damage_part 폴더 안에 있는 파일 이름을 비교하여 \n",
    "# 같은 파일 이름이 있으면 /aiffel/aiffel/blackbox/clean/origin_jpg_train 폴더로 해당 파일을 복사합니다."
   ]
  },
  {
   "cell_type": "code",
   "execution_count": null,
   "id": "65bb3b03",
   "metadata": {},
   "outputs": [
    {
     "name": "stderr",
     "output_type": "stream",
     "text": [
      "Copying files in /aiffel/aiffel/blackbox/origin_jpg_train_list.txt:  61%|██████▏   | 6134/10000 [05:19<05:52, 10.98it/s] "
     ]
    }
   ],
   "source": [
    "import os\n",
    "import shutil\n",
    "from tqdm import tqdm\n",
    "\n",
    "# 파일 리스트가 저장된 txt 파일 경로\n",
    "txt_paths = ['/aiffel/aiffel/blackbox/origin_jpg_train_list.txt', \n",
    "             '/aiffel/aiffel/blackbox/origin_jpg_val_list.txt', \n",
    "             '/aiffel/aiffel/blackbox/mask_json_train_list.txt', \n",
    "             '/aiffel/aiffel/blackbox/mask_json_val_list.txt']\n",
    "\n",
    "# 파일을 복사할 원본 이미지 폴더 경로\n",
    "origin_folder_paths = ['/aiffel/aiffel/blackbox/preprocessed_training/원천데이터/TS_damage_part',\n",
    "                       '/aiffel/aiffel/blackbox/preprocessed_training/원천데이터/TS_damage_part',\n",
    "                       '/aiffel/aiffel/blackbox/preprocessed_training/라벨링데이터/TL_damage_part',\n",
    "                       '/aiffel/aiffel/blackbox/preprocessed_training/라벨링데이터/TL_damage_part']\n",
    "\n",
    "# 파일을 복사할 대상 폴더 경로\n",
    "target_folder_paths = ['/aiffel/aiffel/blackbox/clean/origin_jpg_train', \n",
    "                       '/aiffel/aiffel/blackbox/clean/origin_jpg_val', \n",
    "                       '/aiffel/aiffel/blackbox/clean/mask_json_train', \n",
    "                       '/aiffel/aiffel/blackbox/clean/mask_json_val']\n",
    "\n",
    "# 파일 복사\n",
    "for txt_path, origin_folder_path, target_folder_path in zip(txt_paths, origin_folder_paths, target_folder_paths):\n",
    "    with open(txt_path, 'r') as f:\n",
    "        file_names = f.read().splitlines()\n",
    "        \n",
    "    for file_name in tqdm(file_names, desc=f'Copying files in {txt_path}'):\n",
    "        src_path = os.path.join(origin_folder_path, file_name)\n",
    "        dst_path = os.path.join(target_folder_path, file_name)\n",
    "        if os.path.exists(src_path):\n",
    "            shutil.copy(src_path, dst_path)\n"
   ]
  },
  {
   "cell_type": "code",
   "execution_count": null,
   "id": "41b7e4ee",
   "metadata": {},
   "outputs": [],
   "source": []
  }
 ],
 "metadata": {
  "kernelspec": {
   "display_name": "Python 3 (ipykernel)",
   "language": "python",
   "name": "python3"
  },
  "language_info": {
   "codemirror_mode": {
    "name": "ipython",
    "version": 3
   },
   "file_extension": ".py",
   "mimetype": "text/x-python",
   "name": "python",
   "nbconvert_exporter": "python",
   "pygments_lexer": "ipython3",
   "version": "3.9.7"
  }
 },
 "nbformat": 4,
 "nbformat_minor": 5
}
