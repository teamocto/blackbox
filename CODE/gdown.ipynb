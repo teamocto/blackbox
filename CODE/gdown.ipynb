{
 "cells": [
  {
   "cell_type": "markdown",
   "id": "88d6a889",
   "metadata": {},
   "source": [
    "# Mini Aiffelton"
   ]
  },
  {
   "cell_type": "markdown",
   "id": "7b68fa84",
   "metadata": {},
   "source": [
    "### 설치된 라이브러리 확인"
   ]
  },
  {
   "cell_type": "code",
   "execution_count": 24,
   "id": "a41a015b",
   "metadata": {},
   "outputs": [
    {
     "name": "stdout",
     "output_type": "stream",
     "text": [
      "Package                       Version\r\n",
      "----------------------------- ------------------\r\n",
      "absl-py                       0.12.0\r\n",
      "aiohttp                       3.8.1\r\n",
      "aiosignal                     1.2.0\r\n",
      "albumentations                1.1.0\r\n",
      "antlr4-python3-runtime        4.8\r\n",
      "anyio                         3.4.0\r\n",
      "appdirs                       1.4.4\r\n",
      "argon2-cffi                   21.1.0\r\n",
      "astunparse                    1.6.3\r\n",
      "async-generator               1.10\r\n",
      "async-timeout                 4.0.1\r\n",
      "attrs                         21.2.0\r\n",
      "audioread                     2.1.9\r\n",
      "backcall                      0.2.0\r\n",
      "backports.functools-lru-cache 1.6.4\r\n",
      "beautifulsoup4                4.6.0\r\n",
      "black                         21.12b0\r\n",
      "bleach                        4.1.0\r\n",
      "branca                        0.4.2\r\n",
      "brotlipy                      0.7.0\r\n",
      "cachetools                    4.2.4\r\n",
      "certifi                       2021.10.8\r\n",
      "cffi                          1.15.0\r\n",
      "chardet                       3.0.4\r\n",
      "charset-normalizer            2.0.8\r\n",
      "clang                         5.0\r\n",
      "click                         8.0.3\r\n",
      "click-plugins                 1.1.1\r\n",
      "cligj                         0.7.2\r\n",
      "cloudpickle                   2.0.0\r\n",
      "cmake                         3.21.3\r\n",
      "colorama                      0.4.4\r\n",
      "conda                         4.11.0\r\n",
      "conda-build                   3.21.7\r\n",
      "conda-package-handling        1.7.3\r\n",
      "cryptography                  36.0.0\r\n",
      "cssselect                     1.1.0\r\n",
      "customized-konlpy             0.0.64\r\n",
      "cycler                        0.11.0\r\n",
      "Cython                        0.29.24\r\n",
      "dataclasses                   0.6\r\n",
      "datasets                      1.14.0\r\n",
      "debugpy                       1.5.1\r\n",
      "decorator                     4.4.2\r\n",
      "defusedxml                    0.7.1\r\n",
      "delayed                       0.11.0b1\r\n",
      "Deprecated                    1.2.13\r\n",
      "dill                          0.3.4\r\n",
      "dlib                          19.22.1\r\n",
      "docutils                      0.18.1\r\n",
      "editdistance                  0.6.0\r\n",
      "efficientnet                  1.0.0\r\n",
      "efficientnet-pytorch          0.7.1\r\n",
      "entrypoints                   0.3\r\n",
      "essential-generators          1.0\r\n",
      "face-recognition              1.3.0\r\n",
      "face-recognition-models       0.3.0\r\n",
      "feedfinder2                   0.0.4\r\n",
      "feedparser                    6.0.8\r\n",
      "filelock                      3.4.0\r\n",
      "Fiona                         1.8.20\r\n",
      "Flask                         2.0.2\r\n",
      "flask-ngrok                   0.0.25\r\n",
      "flatbuffers                   1.12\r\n",
      "folium                        0.12.1\r\n",
      "fonttools                     4.28.3\r\n",
      "frozenlist                    1.2.0\r\n",
      "fsspec                        2021.11.1\r\n",
      "future                        0.18.2\r\n",
      "fvcore                        0.1.5.post20211023\r\n",
      "gast                          0.4.0\r\n",
      "gensim                        4.1.2\r\n",
      "geopandas                     0.10.1\r\n",
      "glob2                         0.7\r\n",
      "google-api-core               2.2.2\r\n",
      "google-api-python-client      2.26.1\r\n",
      "google-auth                   2.3.3\r\n",
      "google-auth-httplib2          0.1.0\r\n",
      "google-auth-oauthlib          0.4.6\r\n",
      "google-cloud-vision           2.5.0\r\n",
      "google-pasta                  0.2.0\r\n",
      "googleapis-common-protos      1.53.0\r\n",
      "googletrans                   3.0.0\r\n",
      "grpcio                        1.42.0\r\n",
      "grpcio-status                 1.42.0\r\n",
      "h11                           0.9.0\r\n",
      "h2                            3.2.0\r\n",
      "h3                            3.7.3\r\n",
      "h5py                          3.1.0\r\n",
      "hiredis                       2.0.0\r\n",
      "hpack                         3.0.0\r\n",
      "hstspreload                   2021.12.1\r\n",
      "httpcore                      0.9.1\r\n",
      "httplib2                      0.20.2\r\n",
      "httpx                         0.13.3\r\n",
      "huggingface-hub               0.0.19\r\n",
      "hydra-core                    1.1.1\r\n",
      "hyperframe                    5.2.0\r\n",
      "idna                          2.10\r\n",
      "imageio                       2.9.0\r\n",
      "imageio-ffmpeg                0.4.5\r\n",
      "imantics                      0.1.12\r\n",
      "imbalanced-learn              0.8.1\r\n",
      "imgaug                        0.4.0\r\n",
      "implicit                      0.4.8\r\n",
      "importlib-metadata            4.8.2\r\n",
      "importlib-resources           5.4.0\r\n",
      "iopath                        0.1.9\r\n",
      "ipykernel                     6.6.0\r\n",
      "ipython                       7.28.0\r\n",
      "ipython-genutils              0.2.0\r\n",
      "ipywidgets                    7.6.5\r\n",
      "itsdangerous                  2.0.1\r\n",
      "jedi                          0.18.1\r\n",
      "jieba3k                       0.35.1\r\n",
      "Jinja2                        3.0.3\r\n",
      "joblib                        1.1.0\r\n",
      "JPype1                        1.3.0\r\n",
      "jsonpickle                    2.0.0\r\n",
      "jsonschema                    4.2.1\r\n",
      "jupyter-client                7.1.0\r\n",
      "jupyter-core                  4.9.1\r\n",
      "jupyter-desktop-server        0.1.3\r\n",
      "jupyter-server                1.13.1\r\n",
      "jupyter-server-proxy          3.2.0\r\n",
      "jupyterlab-pygments           0.1.2\r\n",
      "jupyterlab-widgets            1.0.2\r\n",
      "keras                         2.6.0\r\n",
      "Keras-Applications            1.0.8\r\n",
      "keras-ocr                     0.8.8\r\n",
      "Keras-Preprocessing           1.1.2\r\n",
      "kiwisolver                    1.3.2\r\n",
      "konlpy                        0.5.2\r\n",
      "labelme2coco                  0.1.2\r\n",
      "libarchive-c                  3.2\r\n",
      "librosa                       0.8.1\r\n",
      "lightgbm                      3.3.0\r\n",
      "llvmlite                      0.36.0\r\n",
      "lmdb                          1.2.1\r\n",
      "loguru                        0.5.3\r\n",
      "lxml                          4.6.3\r\n",
      "Markdown                      3.3.6\r\n",
      "MarkupSafe                    2.0.1\r\n",
      "matplotlib                    3.4.3\r\n",
      "matplotlib-inline             0.1.3\r\n",
      "matplotlib-venn               0.11.6\r\n",
      "mecab-python                  0.996-ko-0.9.2\r\n",
      "mido                          1.2.10\r\n",
      "missingno                     0.5.0\r\n",
      "mistune                       0.8.4\r\n",
      "moviepy                       1.0.3\r\n",
      "msgpack                       1.0.3\r\n",
      "multidict                     5.2.0\r\n",
      "multiprocess                  0.70.12.2\r\n",
      "munch                         2.5.0\r\n",
      "mypy-extensions               0.4.3\r\n",
      "nbclient                      0.5.9\r\n",
      "nbconvert                     6.3.0\r\n",
      "nbformat                      5.1.3\r\n",
      "nest-asyncio                  1.5.4\r\n",
      "networkx                      2.6.3\r\n",
      "newspaper3k                   0.2.8\r\n",
      "nltk                          3.6.5\r\n",
      "notebook                      6.1.6\r\n",
      "numba                         0.53.1\r\n",
      "numpy                         1.21.4\r\n",
      "oauthlib                      3.1.1\r\n",
      "omegaconf                     2.1.1\r\n",
      "opencv-contrib-python         4.5.3.56\r\n",
      "opencv-python                 4.5.3.56\r\n",
      "opencv-python-headless        4.5.4.60\r\n",
      "opt-einsum                    3.3.0\r\n",
      "outcome                       1.1.0\r\n",
      "packaging                     21.3\r\n",
      "pandas                        1.3.3\r\n",
      "pandocfilters                 1.5.0\r\n",
      "parso                         0.8.3\r\n",
      "pathspec                      0.9.0\r\n",
      "patsy                         0.5.2\r\n",
      "pexpect                       4.8.0\r\n",
      "pickleshare                   0.7.5\r\n",
      "Pillow                        8.3.2\r\n",
      "pip                           21.3.1\r\n",
      "pixellib                      0.7.1\r\n",
      "pkginfo                       1.8.1\r\n",
      "platformdirs                  2.4.0\r\n",
      "pmdarima                      1.8.3\r\n",
      "pooch                         1.5.2\r\n",
      "portalocker                   2.3.2\r\n",
      "pretrainedmodels              0.7.4\r\n",
      "proglog                       0.1.9\r\n",
      "prometheus-client             0.12.0\r\n",
      "promise                       2.3\r\n",
      "prompt-toolkit                3.0.22\r\n",
      "proto-plus                    1.19.8\r\n",
      "protobuf                      3.19.1\r\n",
      "psutil                        5.8.0\r\n",
      "ptyprocess                    0.7.0\r\n",
      "py4j                          0.10.9\r\n",
      "pyarrow                       6.0.1\r\n",
      "pyasn1                        0.4.8\r\n",
      "pyasn1-modules                0.2.8\r\n",
      "pyclipper                     1.3.0.post2\r\n",
      "pycosat                       0.6.3\r\n",
      "pycparser                     2.21\r\n",
      "pydot                         1.4.2\r\n",
      "pydotplus                     2.0.2\r\n",
      "Pygments                      2.10.0\r\n",
      "pyOpenSSL                     21.0.0\r\n",
      "pyparsing                     3.0.6\r\n",
      "pyproj                        3.2.1\r\n",
      "PyQt5                         5.15.6\r\n",
      "PyQt5-Qt5                     5.15.2\r\n",
      "PyQt5-sip                     12.9.0\r\n",
      "pyrsistent                    0.18.0\r\n",
      "PySocks                       1.7.1\r\n",
      "pyspark                       3.1.2\r\n",
      "pytesseract                   0.3.8\r\n",
      "python-dateutil               2.8.2\r\n",
      "python-Levenshtein            0.12.2\r\n",
      "pytz                          2021.3\r\n",
      "pyvis                         0.1.9\r\n",
      "PyWavelets                    1.2.0\r\n",
      "PyYAML                        6.0\r\n",
      "pyzmq                         22.3.0\r\n",
      "qudida                        0.0.4\r\n",
      "ray                           1.7.0\r\n",
      "redis                         4.0.2\r\n",
      "regex                         2021.11.10\r\n",
      "requests                      2.26.0\r\n",
      "requests-file                 1.5.1\r\n",
      "requests-oauthlib             1.3.0\r\n",
      "resampy                       0.2.2\r\n",
      "rfc3986                       1.5.0\r\n",
      "rsa                           4.8\r\n",
      "ruamel-yaml-conda             0.15.80\r\n",
      "sacremoses                    0.0.46\r\n",
      "scikit-image                  0.18.3\r\n",
      "scikit-learn                  1.0\r\n",
      "scipy                         1.7.1\r\n",
      "seaborn                       0.11.2\r\n",
      "segmentation-models-pytorch   0.3.2\r\n",
      "selenium                      4.0.0\r\n",
      "Send2Trash                    1.8.0\r\n",
      "sentencepiece                 0.1.96\r\n",
      "setuptools                    59.4.0\r\n",
      "sgmllib3k                     1.0.0\r\n",
      "Shapely                       1.7.1\r\n",
      "simpervisor                   0.4\r\n",
      "six                           1.16.0\r\n",
      "smart-open                    5.2.1\r\n",
      "sniffio                       1.2.0\r\n",
      "sortedcontainers              2.4.0\r\n",
      "SoundFile                     0.10.3.post1\r\n",
      "soupsieve                     2.3.1\r\n",
      "soynlp                        0.0.493\r\n",
      "statistics                    1.0.3.5\r\n",
      "statsmodels                   0.13.0\r\n",
      "summa                         1.2.0\r\n",
      "tabulate                      0.8.9\r\n",
      "tensorboard                   2.7.0\r\n",
      "tensorboard-data-server       0.6.1\r\n",
      "tensorboard-plugin-wit        1.8.0\r\n",
      "tensorflow-addons             0.14.0\r\n",
      "tensorflow-datasets           4.4.0\r\n",
      "tensorflow-estimator          2.7.0\r\n",
      "tensorflow-gpu                2.6.0\r\n",
      "tensorflow-hub                0.12.0\r\n",
      "tensorflow-metadata           1.5.0\r\n",
      "termcolor                     1.1.0\r\n",
      "terminado                     0.12.1\r\n",
      "testpath                      0.5.0\r\n",
      "threadpoolctl                 3.0.0\r\n",
      "tifffile                      2021.11.2\r\n",
      "timm                          0.6.13\r\n",
      "tinysegmenter                 0.3\r\n",
      "tldextract                    3.1.2\r\n",
      "tokenizers                    0.10.3\r\n",
      "tomli                         1.2.2\r\n",
      "torch                         1.9.1+cu111\r\n",
      "torchaudio                    0.9.1\r\n",
      "torchvision                   0.10.1+cu111\r\n",
      "tornado                       6.1\r\n",
      "tqdm                          4.62.3\r\n",
      "traitlets                     5.1.1\r\n",
      "transformers                  4.11.3\r\n",
      "trio                          0.19.0\r\n",
      "trio-websocket                0.9.2\r\n",
      "tweepy                        3.10.0\r\n",
      "typeguard                     2.13.2\r\n",
      "typing_extensions             4.0.1\r\n",
      "unet                          0.7.7\r\n",
      "uritemplate                   4.1.1\r\n",
      "urllib3                       1.26.7\r\n",
      "validators                    0.18.2\r\n",
      "wcwidth                       0.2.5\r\n",
      "webencodings                  0.5.1\r\n",
      "websocket-client              1.2.3\r\n",
      "websockify                    0.10.0\r\n",
      "Werkzeug                      2.0.2\r\n",
      "wget                          3.2\r\n",
      "wheel                         0.37.0\r\n",
      "widgetsnbextension            3.5.2\r\n",
      "wordcloud                     1.8.1\r\n",
      "wrapt                         1.12.1\r\n",
      "wsproto                       1.0.0\r\n",
      "xgboost                       1.4.2\r\n",
      "xmljson                       0.2.1\r\n",
      "xxhash                        2.0.2\r\n",
      "yacs                          0.1.8\r\n",
      "yarl                          1.7.2\r\n",
      "zipp                          3.6.0\r\n"
     ]
    }
   ],
   "source": [
    "# 이 코드를 실행해보시면 설치된 라이브러리 버전을 확인해보실 수 있습니다.\n",
    "!pip list"
   ]
  },
  {
   "cell_type": "markdown",
   "id": "6415915e",
   "metadata": {},
   "source": [
    "### 라이브러리 임포트"
   ]
  },
  {
   "cell_type": "code",
   "execution_count": 25,
   "id": "ac02e47b",
   "metadata": {},
   "outputs": [
    {
     "name": "stdout",
     "output_type": "stream",
     "text": [
      "Requirement already satisfied: unet in /opt/conda/lib/python3.9/site-packages (0.7.7)\n",
      "Requirement already satisfied: torch in /opt/conda/lib/python3.9/site-packages (from unet) (1.9.1+cu111)\n",
      "Requirement already satisfied: typing-extensions in /opt/conda/lib/python3.9/site-packages (from torch->unet) (4.0.1)\n",
      "\u001b[33mWARNING: Running pip as the 'root' user can result in broken permissions and conflicting behaviour with the system package manager. It is recommended to use a virtual environment instead: https://pip.pypa.io/warnings/venv\u001b[0m\n",
      "Note: you may need to restart the kernel to use updated packages.\n"
     ]
    }
   ],
   "source": [
    "pip install unet"
   ]
  },
  {
   "cell_type": "code",
   "execution_count": 26,
   "id": "59652241",
   "metadata": {
    "scrolled": true
   },
   "outputs": [],
   "source": [
    "import sys\n",
    "import torch\n",
    "import numpy as np\n",
    "import pandas as pd\n",
    "import os\n",
    "import random\n",
    "import argparse\n",
    "import cv2\n",
    "import matplotlib.pyplot as plt\n",
    "import tensorflow as tf\n",
    "import json\n",
    "import matplotlib.image as img\n",
    "import warnings\n",
    "\n",
    "\n",
    "from functools import partial\n",
    "from torch.optim.lr_scheduler import StepLR\n",
    "import albumentations as A"
   ]
  },
  {
   "cell_type": "code",
   "execution_count": 27,
   "id": "f747e19d",
   "metadata": {},
   "outputs": [
    {
     "name": "stdout",
     "output_type": "stream",
     "text": [
      "Collecting git+https://github.com/qubvel/segmentation_models.pytorch\n",
      "  Cloning https://github.com/qubvel/segmentation_models.pytorch to /tmp/pip-req-build-bfqfi65y\n",
      "  Running command git clone --filter=blob:none -q https://github.com/qubvel/segmentation_models.pytorch /tmp/pip-req-build-bfqfi65y\n",
      "  Resolved https://github.com/qubvel/segmentation_models.pytorch to commit e7cbea0bbd546167b9d1757b2cfeca3fbe26a33e\n",
      "  Installing build dependencies ... \u001b[?25ldone\n",
      "\u001b[?25h  Getting requirements to build wheel ... \u001b[?25ldone\n",
      "\u001b[?25h  Preparing metadata (pyproject.toml) ... \u001b[?25ldone\n",
      "\u001b[?25hRequirement already satisfied: pretrainedmodels==0.7.4 in /opt/conda/lib/python3.9/site-packages (from segmentation-models-pytorch==0.3.2) (0.7.4)\n",
      "Requirement already satisfied: torchvision>=0.5.0 in /opt/conda/lib/python3.9/site-packages (from segmentation-models-pytorch==0.3.2) (0.10.1+cu111)\n",
      "Requirement already satisfied: tqdm in /opt/conda/lib/python3.9/site-packages (from segmentation-models-pytorch==0.3.2) (4.62.3)\n",
      "Requirement already satisfied: pillow in /opt/conda/lib/python3.9/site-packages (from segmentation-models-pytorch==0.3.2) (8.3.2)\n",
      "Requirement already satisfied: efficientnet-pytorch==0.7.1 in /opt/conda/lib/python3.9/site-packages (from segmentation-models-pytorch==0.3.2) (0.7.1)\n",
      "Requirement already satisfied: timm==0.6.13 in /opt/conda/lib/python3.9/site-packages (from segmentation-models-pytorch==0.3.2) (0.6.13)\n",
      "Requirement already satisfied: torch in /opt/conda/lib/python3.9/site-packages (from efficientnet-pytorch==0.7.1->segmentation-models-pytorch==0.3.2) (1.9.1+cu111)\n",
      "Requirement already satisfied: munch in /opt/conda/lib/python3.9/site-packages (from pretrainedmodels==0.7.4->segmentation-models-pytorch==0.3.2) (2.5.0)\n",
      "Requirement already satisfied: pyyaml in /opt/conda/lib/python3.9/site-packages (from timm==0.6.13->segmentation-models-pytorch==0.3.2) (6.0)\n",
      "Requirement already satisfied: huggingface-hub in /opt/conda/lib/python3.9/site-packages (from timm==0.6.13->segmentation-models-pytorch==0.3.2) (0.0.19)\n",
      "Requirement already satisfied: numpy in /opt/conda/lib/python3.9/site-packages (from torchvision>=0.5.0->segmentation-models-pytorch==0.3.2) (1.21.4)\n",
      "Requirement already satisfied: typing-extensions in /opt/conda/lib/python3.9/site-packages (from torch->efficientnet-pytorch==0.7.1->segmentation-models-pytorch==0.3.2) (4.0.1)\n",
      "Requirement already satisfied: packaging>=20.9 in /opt/conda/lib/python3.9/site-packages (from huggingface-hub->timm==0.6.13->segmentation-models-pytorch==0.3.2) (21.3)\n",
      "Requirement already satisfied: filelock in /opt/conda/lib/python3.9/site-packages (from huggingface-hub->timm==0.6.13->segmentation-models-pytorch==0.3.2) (3.4.0)\n",
      "Requirement already satisfied: requests in /opt/conda/lib/python3.9/site-packages (from huggingface-hub->timm==0.6.13->segmentation-models-pytorch==0.3.2) (2.26.0)\n",
      "Requirement already satisfied: six in /opt/conda/lib/python3.9/site-packages (from munch->pretrainedmodels==0.7.4->segmentation-models-pytorch==0.3.2) (1.16.0)\n",
      "Requirement already satisfied: pyparsing!=3.0.5,>=2.0.2 in /opt/conda/lib/python3.9/site-packages (from packaging>=20.9->huggingface-hub->timm==0.6.13->segmentation-models-pytorch==0.3.2) (3.0.6)\n",
      "Requirement already satisfied: certifi>=2017.4.17 in /opt/conda/lib/python3.9/site-packages (from requests->huggingface-hub->timm==0.6.13->segmentation-models-pytorch==0.3.2) (2021.10.8)\n",
      "Requirement already satisfied: urllib3<1.27,>=1.21.1 in /opt/conda/lib/python3.9/site-packages (from requests->huggingface-hub->timm==0.6.13->segmentation-models-pytorch==0.3.2) (1.26.7)\n",
      "Requirement already satisfied: charset-normalizer~=2.0.0 in /opt/conda/lib/python3.9/site-packages (from requests->huggingface-hub->timm==0.6.13->segmentation-models-pytorch==0.3.2) (2.0.8)\n",
      "Requirement already satisfied: idna<4,>=2.5 in /opt/conda/lib/python3.9/site-packages (from requests->huggingface-hub->timm==0.6.13->segmentation-models-pytorch==0.3.2) (2.10)\n",
      "\u001b[33mWARNING: Running pip as the 'root' user can result in broken permissions and conflicting behaviour with the system package manager. It is recommended to use a virtual environment instead: https://pip.pypa.io/warnings/venv\u001b[0m\n"
     ]
    }
   ],
   "source": [
    "!pip install -U git+https://github.com/qubvel/segmentation_models.pytorch"
   ]
  },
  {
   "cell_type": "code",
   "execution_count": 28,
   "id": "4edd96f1",
   "metadata": {},
   "outputs": [
    {
     "name": "stdout",
     "output_type": "stream",
     "text": [
      "Collecting git+https://github.com/qubvel/segmentation_models.pytorch\n",
      "  Cloning https://github.com/qubvel/segmentation_models.pytorch to /tmp/pip-req-build-aqdq166m\n",
      "  Running command git clone --filter=blob:none -q https://github.com/qubvel/segmentation_models.pytorch /tmp/pip-req-build-aqdq166m\n",
      "  Resolved https://github.com/qubvel/segmentation_models.pytorch to commit e7cbea0bbd546167b9d1757b2cfeca3fbe26a33e\n",
      "  Installing build dependencies ... \u001b[?25ldone\n",
      "\u001b[?25h  Getting requirements to build wheel ... \u001b[?25ldone\n",
      "\u001b[?25h  Preparing metadata (pyproject.toml) ... \u001b[?25ldone\n",
      "\u001b[?25hRequirement already satisfied: tqdm in /opt/conda/lib/python3.9/site-packages (from segmentation-models-pytorch==0.3.2) (4.62.3)\n",
      "Requirement already satisfied: pretrainedmodels==0.7.4 in /opt/conda/lib/python3.9/site-packages (from segmentation-models-pytorch==0.3.2) (0.7.4)\n",
      "Requirement already satisfied: pillow in /opt/conda/lib/python3.9/site-packages (from segmentation-models-pytorch==0.3.2) (8.3.2)\n",
      "Requirement already satisfied: efficientnet-pytorch==0.7.1 in /opt/conda/lib/python3.9/site-packages (from segmentation-models-pytorch==0.3.2) (0.7.1)\n",
      "Requirement already satisfied: torchvision>=0.5.0 in /opt/conda/lib/python3.9/site-packages (from segmentation-models-pytorch==0.3.2) (0.10.1+cu111)\n",
      "Requirement already satisfied: timm==0.6.13 in /opt/conda/lib/python3.9/site-packages (from segmentation-models-pytorch==0.3.2) (0.6.13)\n",
      "Requirement already satisfied: torch in /opt/conda/lib/python3.9/site-packages (from efficientnet-pytorch==0.7.1->segmentation-models-pytorch==0.3.2) (1.9.1+cu111)\n",
      "Requirement already satisfied: munch in /opt/conda/lib/python3.9/site-packages (from pretrainedmodels==0.7.4->segmentation-models-pytorch==0.3.2) (2.5.0)\n",
      "Requirement already satisfied: pyyaml in /opt/conda/lib/python3.9/site-packages (from timm==0.6.13->segmentation-models-pytorch==0.3.2) (6.0)\n",
      "Requirement already satisfied: huggingface-hub in /opt/conda/lib/python3.9/site-packages (from timm==0.6.13->segmentation-models-pytorch==0.3.2) (0.0.19)\n",
      "Requirement already satisfied: numpy in /opt/conda/lib/python3.9/site-packages (from torchvision>=0.5.0->segmentation-models-pytorch==0.3.2) (1.21.4)\n",
      "Requirement already satisfied: typing-extensions in /opt/conda/lib/python3.9/site-packages (from torch->efficientnet-pytorch==0.7.1->segmentation-models-pytorch==0.3.2) (4.0.1)\n",
      "Requirement already satisfied: requests in /opt/conda/lib/python3.9/site-packages (from huggingface-hub->timm==0.6.13->segmentation-models-pytorch==0.3.2) (2.26.0)\n",
      "Requirement already satisfied: packaging>=20.9 in /opt/conda/lib/python3.9/site-packages (from huggingface-hub->timm==0.6.13->segmentation-models-pytorch==0.3.2) (21.3)\n",
      "Requirement already satisfied: filelock in /opt/conda/lib/python3.9/site-packages (from huggingface-hub->timm==0.6.13->segmentation-models-pytorch==0.3.2) (3.4.0)\n",
      "Requirement already satisfied: six in /opt/conda/lib/python3.9/site-packages (from munch->pretrainedmodels==0.7.4->segmentation-models-pytorch==0.3.2) (1.16.0)\n",
      "Requirement already satisfied: pyparsing!=3.0.5,>=2.0.2 in /opt/conda/lib/python3.9/site-packages (from packaging>=20.9->huggingface-hub->timm==0.6.13->segmentation-models-pytorch==0.3.2) (3.0.6)\n",
      "Requirement already satisfied: idna<4,>=2.5 in /opt/conda/lib/python3.9/site-packages (from requests->huggingface-hub->timm==0.6.13->segmentation-models-pytorch==0.3.2) (2.10)\n",
      "Requirement already satisfied: charset-normalizer~=2.0.0 in /opt/conda/lib/python3.9/site-packages (from requests->huggingface-hub->timm==0.6.13->segmentation-models-pytorch==0.3.2) (2.0.8)\n",
      "Requirement already satisfied: certifi>=2017.4.17 in /opt/conda/lib/python3.9/site-packages (from requests->huggingface-hub->timm==0.6.13->segmentation-models-pytorch==0.3.2) (2021.10.8)\n",
      "Requirement already satisfied: urllib3<1.27,>=1.21.1 in /opt/conda/lib/python3.9/site-packages (from requests->huggingface-hub->timm==0.6.13->segmentation-models-pytorch==0.3.2) (1.26.7)\n",
      "\u001b[33mWARNING: Running pip as the 'root' user can result in broken permissions and conflicting behaviour with the system package manager. It is recommended to use a virtual environment instead: https://pip.pypa.io/warnings/venv\u001b[0m\n"
     ]
    }
   ],
   "source": [
    "!pip install -U git+https://github.com/qubvel/segmentation_models.pytorch"
   ]
  },
  {
   "cell_type": "code",
   "execution_count": 29,
   "id": "2ba0b8ed",
   "metadata": {},
   "outputs": [],
   "source": [
    "from src.Models import Unet\n",
    "from src.Utils import FocalLoss"
   ]
  },
  {
   "cell_type": "code",
   "execution_count": null,
   "id": "c5b3eace",
   "metadata": {},
   "outputs": [],
   "source": [
    "from src.Evaluation import Evaluation"
   ]
  },
  {
   "cell_type": "code",
   "execution_count": null,
   "id": "a1a663a5",
   "metadata": {},
   "outputs": [],
   "source": []
  },
  {
   "cell_type": "markdown",
   "id": "41c55dfa",
   "metadata": {},
   "source": [
    "### GPU로 돌릴 수 있음?!"
   ]
  },
  {
   "cell_type": "code",
   "execution_count": null,
   "id": "90583090",
   "metadata": {},
   "outputs": [],
   "source": [
    "# GPU로 Tesla T4가 준비돼있습니다.\n",
    "!nvidia-smi"
   ]
  },
  {
   "cell_type": "markdown",
   "id": "95561f75",
   "metadata": {},
   "source": [
    "### 구글드라이브 데이터 연동을 위한 gdown 설치"
   ]
  },
  {
   "cell_type": "code",
   "execution_count": null,
   "id": "24059950",
   "metadata": {},
   "outputs": [],
   "source": [
    "pip install gdown"
   ]
  },
  {
   "cell_type": "markdown",
   "id": "eceb017f",
   "metadata": {},
   "source": [
    "### gdown 사용법 \n",
    "https://lv99.tistory.com/33"
   ]
  },
  {
   "cell_type": "code",
   "execution_count": null,
   "id": "9baaf28e",
   "metadata": {},
   "outputs": [],
   "source": [
    "# 구글드라이브 링크생성(원본링크)      ~/d/ id값 /view\n",
    "\n",
    "# /training/라벨링데이터\n",
    "# https://drive.google.com/file/d/1EXQvJAUWsaz3F0LEmP1PTvLXVFzjsSvk/view?usp=share_link\n",
    "# https://drive.google.com/file/d/1i0rTFSZlewX5u5f5cH8Y4LWvF51rKBjs/view?usp=share_link\n",
    "\n",
    "\n",
    "# /training/원천데이터\n",
    "# https://drive.google.com/file/d/1rxn8bs7uApg-VLd4OC-il5bYxyO_mwKD/view?usp=share_link\n",
    "# https://drive.google.com/file/d/118BtrVfIljp28YdPFAmJaDm1IGVK72K9/view?usp=share_link\n",
    "# https://drive.google.com/file/d/1GOalM5Uiz_lXdZAYcKTxPOLYuTB9jHRj/view?usp=share_link\n",
    "    \n",
    "# /Validation/라벨링데이터\n",
    "# https://drive.google.com/file/d/1KewbJVUUAEnstqYad5qb2Hp2zHySPAwQ/view?usp=share_link\n",
    "# https://drive.google.com/file/d/1znTrKYsygOe3MuDJNGpEj4dgN8z9UrqM/view?usp=share_link\n",
    "    \n",
    "# /Validation/원천데이터\n",
    "# https://drive.google.com/file/d/1-QdNrqPINTXQ2m136WhlVi38LuN39_KJ/view?usp=share_link\n",
    "# https://drive.google.com/file/d/1ZZQyVnzBkk5fZgJ0wWJpVEnQ_EHHzmsL/view?usp=share_link"
   ]
  },
  {
   "cell_type": "markdown",
   "id": "2982ee3c",
   "metadata": {},
   "source": [
    "### 폴더 먼저 만들고 위치 유의해서 데이터 다운로드받기"
   ]
  },
  {
   "cell_type": "code",
   "execution_count": null,
   "id": "7bf39f73",
   "metadata": {},
   "outputs": [],
   "source": [
    "# 디렉토리로 이동해서 압출풀기 : 쉘에서 cd ~/aiffel/mini_aiffelton/training/라벨링데이터\n",
    "\n",
    "# /training/라벨링데이터\n",
    "!gdown https://drive.google.com/uc?id=1EXQvJAUWsaz3F0LEmP1PTvLXVFzjsSvk\n",
    "!gdown https://drive.google.com/uc?id=1i0rTFSZlewX5u5f5cH8Y4LWvF51rKBjs\n",
    "\n",
    "#쉘에서 unzip #TL_damage_part.zip\n",
    "#쉘에서 unzip #TL_damage.zip"
   ]
  },
  {
   "cell_type": "code",
   "execution_count": null,
   "id": "da99258d",
   "metadata": {},
   "outputs": [],
   "source": [
    "# /training/원천데이터\n",
    "!gdown https://drive.google.com/uc?id=rxn8bs7uApg-VLd4OC-il5bYxyO_mwKD\n",
    "!gdown https://drive.google.com/uc?id=118BtrVfIljp28YdPFAmJaDm1IGVK72K9\n",
    "!gdown https://drive.google.com/uc?id=1GOalM5Uiz_lXdZAYcKTxPOLYuTB9jHRj\n",
    "    \n",
    "#쉘에서 unzip #TS_damage_part.zip\n",
    "#쉘에서 unzip #a"
   ]
  },
  {
   "cell_type": "code",
   "execution_count": null,
   "id": "9b090cfb",
   "metadata": {},
   "outputs": [],
   "source": [
    "# 쉘에서 cd ~/aiffel/mini_aiffelton/Validation/라벨링데이터\n",
    "\n",
    "# /Validation/라벨링데이터\n",
    "!gdown https://drive.google.com/uc?id=1KewbJVUUAEnstqYad5qb2Hp2zHySPAwQ\n",
    "!gdown https://drive.google.com/uc?id=1znTrKYsygOe3MuDJNGpEj4dgN8z9UrqM"
   ]
  },
  {
   "cell_type": "code",
   "execution_count": null,
   "id": "20157972",
   "metadata": {},
   "outputs": [],
   "source": [
    "# 쉘에서 cd ~/aiffel/mini_aiffelton/Validation/원천데이터\n",
    "\n",
    "# /Validation/원천데이터\n",
    "!gdown https://drive.google.com/uc?id=1-QdNrqPINTXQ2m136WhlVi38LuN39_KJ\n",
    "!gdown https://drive.google.com/uc?id=1ZZQyVnzBkk5fZgJ0wWJpVEnQ_EHHzmsL"
   ]
  },
  {
   "cell_type": "code",
   "execution_count": null,
   "id": "0e3b1fcf",
   "metadata": {},
   "outputs": [],
   "source": [
    "!pwd"
   ]
  },
  {
   "cell_type": "markdown",
   "id": "5759b885",
   "metadata": {},
   "source": [
    "### pretrained 모델 다운로드경로"
   ]
  },
  {
   "cell_type": "markdown",
   "id": "b9c8d100",
   "metadata": {},
   "source": [
    "유튜브 링크\\\n",
    "https://www.youtube.com/watch?v=mmWg_sU9bXY"
   ]
  },
  {
   "cell_type": "code",
   "execution_count": null,
   "id": "0bffa7a2",
   "metadata": {},
   "outputs": [],
   "source": [
    "# https://drive.google.com/drive/folders/1q0l5vT14Kka_iu0WZgn1EFJLUbWD8EtY\n",
    "    \n",
    "# https://drive.google.com/file/d/1riJYtUIPlP_zjS91N1N26tqnoYw42ph-/view?usp=share_link\n",
    "# https://drive.google.com/file/d/1-W7e84U0doUCxSHmAwSG5XJ8aRsANzQK/view?usp=share_link\n",
    "# https://drive.google.com/file/d/1ay70sw_J8y6og4u4PqeJxEbe2kaxBxgS/view?usp=share_link\n",
    "# https://drive.google.com/file/d/1WJK803zx4L8vfeXo3llQ3RDfnGX9osZG/view?usp=share_link\n",
    "# https://drive.google.com/file/d/1nCt0A-Cao86MRMJw-Bx-qmy5QP3dOo-u/view?usp=share_link"
   ]
  },
  {
   "cell_type": "code",
   "execution_count": null,
   "id": "6f61500c",
   "metadata": {},
   "outputs": [],
   "source": [
    "!gdown https://drive.google.com/uc?id=1riJYtUIPlP_zjS91N1N26tqnoYw42ph-"
   ]
  },
  {
   "cell_type": "code",
   "execution_count": null,
   "id": "b2d5513b",
   "metadata": {},
   "outputs": [],
   "source": [
    "!gdown https://drive.google.com/uc?id=1-W7e84U0doUCxSHmAwSG5XJ8aRsANzQK\n",
    "!gdown https://drive.google.com/uc?id=1ay70sw_J8y6og4u4PqeJxEbe2kaxBxgS\n",
    "!gdown https://drive.google.com/uc?id=1WJK803zx4L8vfeXo3llQ3RDfnGX9osZG\n",
    "!gdown https://drive.google.com/uc?id=1nCt0A-Cao86MRMJw-Bx-qmy5QP3dOo-u"
   ]
  },
  {
   "cell_type": "code",
   "execution_count": null,
   "id": "604487b9",
   "metadata": {},
   "outputs": [],
   "source": [
    "\n",
    "\n",
    "# weight_path = '/aiffel/aiffel/mini_aiffelton/model/[DAMAGE][Breakage_3]Unet.pt'\n",
    "# weight_path = '/aiffel/aiffel/mini_aiffelton/model/[DAMAGE][Breakage_3]Unet.pt'\n",
    "weight_path = '/aiffel/aiffel/mini_aiffelton/model/[DAMAGE][Breakage_3]Unet.pt'\n",
    "# weight_path = '/aiffel/aiffel/mini_aiffelton/model/[DAMAGE][Breakage_3]Unet.pt'\n",
    "\n",
    "n_classes = 2\n",
    "device = 'cuda' if torch.cuda.is_available() else 'cpu'\n",
    "\n",
    "model = Unet(encoder = 'resnet34', pre_weight = 'imagenet', num_classes = n_classes).to(device)\n",
    "model.model.load_state_dict(torch.load(weight_path, map_location = torch.device(device)))\n",
    "model.eval()\n",
    "\n",
    "print('Loaded pretrained model')"
   ]
  },
  {
   "cell_type": "markdown",
   "id": "0590ce44",
   "metadata": {},
   "source": [
    "### 현재 위치 확인"
   ]
  },
  {
   "cell_type": "code",
   "execution_count": null,
   "id": "d8ae73e9",
   "metadata": {},
   "outputs": [],
   "source": [
    "!pwd"
   ]
  },
  {
   "cell_type": "markdown",
   "id": "0481b574",
   "metadata": {},
   "source": [
    "### 경로 확인을 위한 코드"
   ]
  },
  {
   "cell_type": "code",
   "execution_count": null,
   "id": "f288f6ce",
   "metadata": {},
   "outputs": [],
   "source": [
    "import os.path\n",
    "from os import path"
   ]
  },
  {
   "cell_type": "code",
   "execution_count": null,
   "id": "5a841c21",
   "metadata": {},
   "outputs": [],
   "source": [
    "path.exists('./training/원천데이터/damage_part/0368917_as-0006731.jpg')\n",
    "#현재 위치에 파일이 존재하는지 알아볼 수 있다."
   ]
  },
  {
   "cell_type": "markdown",
   "id": "1dd19d14",
   "metadata": {},
   "source": [
    "### 경로에서 이미지 하나 출력해보기"
   ]
  },
  {
   "cell_type": "code",
   "execution_count": null,
   "id": "7eed4444",
   "metadata": {},
   "outputs": [],
   "source": [
    "print(\"입력 이미지 데이터:\", pic.shape)"
   ]
  },
  {
   "cell_type": "code",
   "execution_count": null,
   "id": "91d27586",
   "metadata": {},
   "outputs": [],
   "source": [
    "import cv2\n",
    "import matplotlib.pyplot as plt\n",
    "\n",
    "img_path = './training/원천데이터/damage_part/0368917_as-0006731.jpg'\n",
    "\n",
    "img = cv2.imread(img_path)\n",
    "img = cv2.cvtColor(img, cv2.COLOR_BGR2RGB)\n",
    "# img = cv2.resize(img, (256, 256))\n",
    "\n",
    "# plt.figure(figsize = (8, 8))\n",
    "plt.imshow(img)\n",
    "print(\"입력 이미지 데이터:\", img.shape)"
   ]
  },
  {
   "cell_type": "code",
   "execution_count": null,
   "id": "beaf1f84",
   "metadata": {},
   "outputs": [],
   "source": [
    "!gdown https://drive.google.com/uc?id=1rxn8bs7uApg-VLd4OC-il5bYxyO_mwKD"
   ]
  },
  {
   "cell_type": "markdown",
   "id": "d577df7a",
   "metadata": {},
   "source": [
    "#### 다운로드 실패한 데이터셋 - 수기로 업로드"
   ]
  },
  {
   "cell_type": "code",
   "execution_count": null,
   "id": "f211be90",
   "metadata": {},
   "outputs": [],
   "source": [
    "!gdown https://drive.google.com/uc?id=1GOalM5Uiz_lXdZAYcKTxPOLYuTB9jHRj"
   ]
  },
  {
   "cell_type": "code",
   "execution_count": null,
   "id": "bfd4431b",
   "metadata": {},
   "outputs": [],
   "source": [
    "!gdown https://drive.google.com/uc?id=1GOalM5Uiz_lXdZAYcKTxPOLYuTB9jHRj"
   ]
  },
  {
   "cell_type": "markdown",
   "id": "7c7ecab9",
   "metadata": {},
   "source": [
    "# EDA"
   ]
  },
  {
   "cell_type": "markdown",
   "id": "84e4f0e6",
   "metadata": {},
   "source": [
    "#### training/원천데이터/damage_part 데이터 리스트 뽑아보기"
   ]
  },
  {
   "cell_type": "code",
   "execution_count": null,
   "id": "4eea924f",
   "metadata": {},
   "outputs": [],
   "source": [
    "dir_path_t_damage_part = os.getenv('HOME')+'/aiffel/mini_aiffelton/training/원천데이터/damage_part'\n",
    "file_list_t_damage_part = os.listdir(dir_path_t_damage_part)\n",
    "\n",
    "print (\"file_list_t_damage_part: {}\".format(file_list_t_damage_part), len(file_list_t_damage_part))"
   ]
  },
  {
   "cell_type": "markdown",
   "id": "03a13802",
   "metadata": {},
   "source": [
    "#### training/원천데이터/damage_part 데이터 개수 뽑아보기"
   ]
  },
  {
   "cell_type": "code",
   "execution_count": null,
   "id": "7a0d645b",
   "metadata": {},
   "outputs": [],
   "source": [
    "print (\"file_list_t_damage_part 파일 https://8888-wzy89is4o7nkejs0lle5123ia.e.prod.connect.ainize.ai/notebooks/aiffel/mini_aiffelton/mini_aiffelton.ipynb#training/%EC%9B%90%EC%B2%9C%EB%8D%B0%EC%9D%B4%ED%84%B0/damage_part-%EB%8D%B0%EC%9D%B4%ED%84%B0-%EA%B0%9C%EC%88%98-%EB%BD%91%EC%95%84%EB%B3%B4%EA%B8%B0개수 :\", len(file_list_t_damage_part))"
   ]
  },
  {
   "cell_type": "markdown",
   "id": "4ca418e1",
   "metadata": {},
   "source": [
    "#### training/원천데이터/damage_part 데이터 랜덤하게 플롯해보기"
   ]
  },
  {
   "cell_type": "code",
   "execution_count": null,
   "id": "2d4dedf6",
   "metadata": {},
   "outputs": [],
   "source": [
    "# get list of image file names and shuffle them randomly\n",
    "# np.random.shuffle(file_list_t_damage_part)\n",
    "\n",
    "#Set figsize here\n",
    "fig, axes = plt.subplots(nrows=2, ncols=3, figsize=(24,10))\n",
    "\n",
    "# flatten axes for easy iterating\n",
    "for i, ax in enumerate(axes.flatten()):\n",
    "  image = img.imread(dir_path_damage_t_part+'/'+file_list_damage_t_part[i])\n",
    "  ax.imshow(image)\n",
    "plt.show()\n",
    "\n",
    "fig.tight_layout()\n",
    "\n",
    "# print(\"입력 이미지 데이터:\", img.shape)"
   ]
  },
  {
   "cell_type": "markdown",
   "id": "50eb1ea1",
   "metadata": {},
   "source": [
    "#### training/원천데이터/damage 데이터 리스트 뽑아보기"
   ]
  },
  {
   "cell_type": "code",
   "execution_count": null,
   "id": "eed1ce8a",
   "metadata": {},
   "outputs": [],
   "source": [
    "dir_path_t_damage = os.getenv('HOME')+'/aiffel/mini_aiffelton/training/원천데이터/damage'\n",
    "file_list_t_damage = os.listdir(dir_path_t_damage)\n",
    "\n",
    "print (\"file_list_t_damage: {}\".format(file_list_t_damage))"
   ]
  },
  {
   "cell_type": "markdown",
   "id": "01757edf",
   "metadata": {},
   "source": [
    "#### training/원천데이터/damage 데이터 개수 뽑아보기"
   ]
  },
  {
   "cell_type": "code",
   "execution_count": null,
   "id": "ee312ff0",
   "metadata": {},
   "outputs": [],
   "source": [
    "print (\"file_list_t_damage 파일 개수\", len(file_list_t_damage))"
   ]
  },
  {
   "cell_type": "markdown",
   "id": "bb76e04c",
   "metadata": {},
   "source": [
    "#### training/원천데이터/damage 데이터 랜덤 플롯해보기"
   ]
  },
  {
   "cell_type": "code",
   "execution_count": null,
   "id": "51df5814",
   "metadata": {},
   "outputs": [],
   "source": [
    "# get list of image file names and shuffle them randomly\n",
    "np.random.shuffle(file_list_t_damage)\n",
    "\n",
    "#Set figsize here\n",
    "fig, axes = plt.subplots(nrows=2, ncols=3, figsize=(24,10))\n",
    "\n",
    "# flatten axes for easy iterating\n",
    "for i, ax in enumerate(axes.flatten()):\n",
    "  image = img.imread(dir_path_t_damage+'/'+file_list_t_damage[i])\n",
    "  ax.imshow(image)\n",
    "plt.show()\n",
    "\n",
    "fig.tight_layout()"
   ]
  },
  {
   "cell_type": "markdown",
   "id": "ea046de9",
   "metadata": {},
   "source": [
    "#### Validation/원천데이터/damage_part 데이터 리스트 뽑아보기"
   ]
  },
  {
   "cell_type": "code",
   "execution_count": null,
   "id": "1df8b61e",
   "metadata": {},
   "outputs": [],
   "source": [
    "dir_path_V_damage_part = os.getenv('HOME')+'/aiffel/mini_aiffelton/Validation/원천데이터/damage_part'\n",
    "file_list_V_damage_part = os.listdir(dir_path_V_damage_part)\n",
    "\n",
    "print (\"file_list: {}\".format(file_list_V_damage_part))"
   ]
  },
  {
   "cell_type": "markdown",
   "id": "5ed7e543",
   "metadata": {},
   "source": [
    "#### Validation/원천데이터/damage_part 데이터 개수 뽑아보기"
   ]
  },
  {
   "cell_type": "code",
   "execution_count": null,
   "id": "6dc72246",
   "metadata": {},
   "outputs": [],
   "source": [
    "print (\"file_list_V_damage_part 파일 개수\", len(file_list_V_damage_part))"
   ]
  },
  {
   "cell_type": "markdown",
   "id": "23b822b8",
   "metadata": {},
   "source": [
    "#### Validation/원천데이터/damage_part 데이터 랜덤 플롯해보기"
   ]
  },
  {
   "cell_type": "code",
   "execution_count": null,
   "id": "2ed3f9af",
   "metadata": {},
   "outputs": [],
   "source": [
    "# get list of image file names and shuffle them randomly\n",
    "np.random.shuffle(file_list_V_damage_part)\n",
    "\n",
    "#Set figsize here\n",
    "fig, axes = plt.subplots(nrows=2, ncols=3, figsize=(24,10))\n",
    "\n",
    "# flatten axes for easy iterating\n",
    "for i, ax in enumerate(axes.flatten()):\n",
    "  image = img.imread(dir_path_V_damage_part+'/'+file_list_V_damage_part[i])\n",
    "  ax.imshow(image)\n",
    "plt.show()\n",
    "\n",
    "fig.tight_layout()"
   ]
  },
  {
   "cell_type": "markdown",
   "id": "659c9b96",
   "metadata": {},
   "source": [
    "#### Validation/원천데이터/damage 데이터 리스트 뽑아보기"
   ]
  },
  {
   "cell_type": "code",
   "execution_count": null,
   "id": "68dcc26c",
   "metadata": {},
   "outputs": [],
   "source": [
    "dir_path_V_damage = os.getenv('HOME')+'/aiffel/mini_aiffelton/Validation/원천데이터/damage'\n",
    "file_list_V_damage = os.listdir(dir_path_V_damage)\n",
    "\n",
    "print (\"file_list_V_damage: {}\".format(file_list_V_damage))"
   ]
  },
  {
   "cell_type": "markdown",
   "id": "8e03e118",
   "metadata": {},
   "source": [
    "#### Validation/원천데이터/damage 데이터 개수 뽑아보기"
   ]
  },
  {
   "cell_type": "code",
   "execution_count": null,
   "id": "ca20f4ca",
   "metadata": {},
   "outputs": [],
   "source": [
    "print (\"file_list_V_damage 파일 개수\", len(file_list_V_damage))"
   ]
  },
  {
   "cell_type": "markdown",
   "id": "fceae798",
   "metadata": {},
   "source": [
    "#### Validation/원천데이터/damage 데이터 랜덤 플롯해보기"
   ]
  },
  {
   "cell_type": "code",
   "execution_count": null,
   "id": "59700785",
   "metadata": {},
   "outputs": [],
   "source": [
    "# get list of image file names and shuffle them randomly\n",
    "np.random.shuffle(file_list_V_damage)\n",
    "\n",
    "#Set figsize here\n",
    "fig, axes = plt.subplots(nrows=2, ncols=3, figsize=(24,10))\n",
    "\n",
    "# flatten axes for easy iterating\n",
    "for i, ax in enumerate(axes.flatten()):\n",
    "  image = img.imread(dir_path_V_damage+'/'+file_list_V_damage[i])\n",
    "  ax.imshow(image)\n",
    "plt.show()\n",
    "\n",
    "fig.tight_layout()\n",
    "\n",
    "\n"
   ]
  },
  {
   "cell_type": "markdown",
   "id": "367a0e8a",
   "metadata": {},
   "source": [
    "#### training/라벨링데이터/damage_part 데이터 리스트 뽑아보기"
   ]
  },
  {
   "cell_type": "code",
   "execution_count": null,
   "id": "c0bbe542",
   "metadata": {},
   "outputs": [],
   "source": [
    "dir_path_tl_damage_part = os.getenv('HOME')+'/aiffel/mini_aiffelton/training/라벨링데이터/damage_part'\n",
    "file_list_tl_damage_part = os.listdir(dir_path_tl_damage_part)\n",
    "\n",
    "print (\"file_list_tl_damage_part: {}\".format(file_list_tl_damage_part))"
   ]
  },
  {
   "cell_type": "code",
   "execution_count": null,
   "id": "1f030d7d",
   "metadata": {},
   "outputs": [],
   "source": [
    "print (\"file_list_tl_damage_part 파일 개수 :\", len(file_list_tl_damage_part))"
   ]
  },
  {
   "cell_type": "code",
   "execution_count": null,
   "id": "8c310b2e",
   "metadata": {},
   "outputs": [],
   "source": [
    "file_path = os.getenv('HOME')+'/aiffel/mini_aiffelton/training/라벨링데이터/damage_part/0104257_as-0015969.json'\n",
    "\n",
    "with open(file_path, 'r') as fp:\n",
    "    data = json.load(fp)"
   ]
  },
  {
   "cell_type": "code",
   "execution_count": null,
   "id": "5d06733d",
   "metadata": {},
   "outputs": [],
   "source": [
    "print(json.dumps(data))"
   ]
  },
  {
   "cell_type": "markdown",
   "id": "23d90941",
   "metadata": {},
   "source": [
    "#### training/라벨링데이터/damage 데이터 리스트 뽑아보기"
   ]
  },
  {
   "cell_type": "code",
   "execution_count": null,
   "id": "42cc2a6e",
   "metadata": {},
   "outputs": [],
   "source": [
    "dir_path_tl_damage = os.getenv('HOME')+'/aiffel/mini_aiffelton/training/라벨링데이터/damage'\n",
    "file_list_tl_damage = os.listdir(dir_path_tl_damage)\n",
    "\n",
    "print (\"file_list_tl_damage: {}\".format(file_list_tl_damage))"
   ]
  },
  {
   "cell_type": "code",
   "execution_count": null,
   "id": "ea85df37",
   "metadata": {},
   "outputs": [],
   "source": [
    "print (\"file_list_tl_damage 파일 개수\", len(file_list_tl_damage))"
   ]
  },
  {
   "cell_type": "code",
   "execution_count": null,
   "id": "5eab4059",
   "metadata": {},
   "outputs": [],
   "source": [
    "file_path = os.getenv('HOME')+'/aiffel/mini_aiffelton/training/라벨링데이터/damage/0485595_sc-192090.json'\n",
    "\n",
    "with open(file_path, 'r') as fp:\n",
    "    data = json.load(fp)"
   ]
  },
  {
   "cell_type": "code",
   "execution_count": null,
   "id": "a3ca958c",
   "metadata": {},
   "outputs": [],
   "source": [
    "print(json.dumps(data))"
   ]
  },
  {
   "cell_type": "markdown",
   "id": "b8d6f220",
   "metadata": {},
   "source": [
    "#### Validation/라벨링데이터/damage_part 데이터 리스트 뽑아보기"
   ]
  },
  {
   "cell_type": "code",
   "execution_count": null,
   "id": "8b445eec",
   "metadata": {},
   "outputs": [],
   "source": [
    "dir_path_Vl_damage_part = os.getenv('HOME')+'/aiffel/mini_aiffelton/Validation/라벨링데이터/damage_part'\n",
    "file_list_Vl_damage_part = os.listdir(dir_path_Vl_damage_part)\n",
    "\n",
    "print (\"file_list_Vl_damage_part: {}\".format(file_list_Vl_damage_part))"
   ]
  },
  {
   "cell_type": "markdown",
   "id": "d6cad7bd",
   "metadata": {},
   "source": [
    "#### Validation/라벨링데이터/damage_part 데이터 개수 뽑아보기"
   ]
  },
  {
   "cell_type": "code",
   "execution_count": null,
   "id": "3144208d",
   "metadata": {},
   "outputs": [],
   "source": [
    "print (\"file_list_Vl_damage_part 파일 개수\", len(file_list_Vl_damage_part))"
   ]
  },
  {
   "cell_type": "code",
   "execution_count": null,
   "id": "a49e9faa",
   "metadata": {},
   "outputs": [],
   "source": []
  },
  {
   "cell_type": "code",
   "execution_count": null,
   "id": "f438309d",
   "metadata": {},
   "outputs": [],
   "source": [
    "file_path = os.getenv('HOME')+'/aiffel/mini_aiffelton/Validation/라벨링데이터/damage_part/0239491_as-2617876.json'\n",
    "\n",
    "with open(file_path, 'r') as fp:\n",
    "    data = json.load(fp)"
   ]
  },
  {
   "cell_type": "code",
   "execution_count": null,
   "id": "9236ba3b",
   "metadata": {},
   "outputs": [],
   "source": [
    "print(json.dumps(data))"
   ]
  },
  {
   "cell_type": "markdown",
   "id": "7b8618d3",
   "metadata": {},
   "source": [
    "#### Validation/라벨링데이터/damage 데이터 리스트 뽑아보기"
   ]
  },
  {
   "cell_type": "code",
   "execution_count": null,
   "id": "f720f2c2",
   "metadata": {},
   "outputs": [],
   "source": [
    "dir_path_Vl_damage = os.getenv('HOME')+'/aiffel/mini_aiffelton/Validation/라벨링데이터/damage'\n",
    "file_list_Vl_damage = os.listdir(dir_path_Vl_damage)\n",
    "\n",
    "print (\"file_list_Vl_damage : {}\".format(file_list_Vl_damage))"
   ]
  },
  {
   "cell_type": "markdown",
   "id": "b6a5746b",
   "metadata": {},
   "source": [
    "#### Validation/라벨링데이터/damage 데이터 개수 뽑아보기"
   ]
  },
  {
   "cell_type": "code",
   "execution_count": null,
   "id": "1d01ebd9",
   "metadata": {},
   "outputs": [],
   "source": [
    "print (\"file_list_Vl_damage 파일 개수\", len(file_list_Vl_damage))"
   ]
  },
  {
   "cell_type": "code",
   "execution_count": null,
   "id": "88109d87",
   "metadata": {},
   "outputs": [],
   "source": [
    "file_path = os.getenv('HOME')+'/aiffel/mini_aiffelton/Validation/라벨링데이터/damage/0536688_as-0027676.json'\n",
    "\n",
    "with open(file_path, 'r') as fp:\n",
    "    data = json.load(fp)"
   ]
  },
  {
   "cell_type": "code",
   "execution_count": null,
   "id": "b4287186",
   "metadata": {},
   "outputs": [],
   "source": [
    "print(json.dumps(data))"
   ]
  },
  {
   "cell_type": "markdown",
   "id": "a9b6da05",
   "metadata": {},
   "source": [
    "json 파일 다루기 \\\n",
    "https://www.youtube.com/watch?v=s9D-JIuaFqY"
   ]
  },
  {
   "cell_type": "code",
   "execution_count": null,
   "id": "48cdcb29",
   "metadata": {},
   "outputs": [],
   "source": [
    "file_path = os.getenv('HOME')+'/aiffel/mini_aiffelton/Validation/라벨링데이터/damage/0548838_sc-140987.json'\n",
    "\n",
    "with open(file_path, 'r') as fp:\n",
    "    data = json.load(fp)"
   ]
  },
  {
   "cell_type": "code",
   "execution_count": null,
   "id": "c1a37f5e",
   "metadata": {},
   "outputs": [],
   "source": [
    "print(json.dumps(data))"
   ]
  },
  {
   "cell_type": "code",
   "execution_count": null,
   "id": "d5534d2c",
   "metadata": {},
   "outputs": [],
   "source": [
    "# for item in data:\n",
    "#     print(item[\"info\"][\"name\"])\n",
    "#     print(item[\"category_id\"])\n",
    "#     print(item[\"damage\"])\n",
    "#     print(item[\"repair\"])\n",
    "#     print(item[\"categories\"][\"id\"])\n",
    "#     print()\n",
    "\n",
    "# for item in data:\n",
    "#     print(item[0][1])\n",
    "#     print(item[4])\n",
    "#     print(item[7])\n",
    "#     print(item[8])\n",
    "#     print(item[9][2])\n",
    "#     print()\n"
   ]
  },
  {
   "cell_type": "code",
   "execution_count": null,
   "id": "646d8948",
   "metadata": {},
   "outputs": [],
   "source": []
  },
  {
   "cell_type": "code",
   "execution_count": null,
   "id": "5e6716ee",
   "metadata": {},
   "outputs": [],
   "source": [
    "dir_path_p = os.getenv('HOME')+'/aiffel/mini_aiffelton/training/원천데이터/견적서'\n",
    "file_list_p = os.listdir(dir_path_p)\n",
    "\n",
    "print (\"file_list_p: {}\".format(file_list_p))"
   ]
  },
  {
   "cell_type": "code",
   "execution_count": null,
   "id": "7f3933b2",
   "metadata": {},
   "outputs": [],
   "source": [
    "print (\"file_list_p 파일 개수\", len(file_list_p))"
   ]
  },
  {
   "cell_type": "code",
   "execution_count": null,
   "id": "43099de1",
   "metadata": {},
   "outputs": [],
   "source": [
    "# file_path = os.getenv('HOME')+'/aiffel/mini_aiffelton/training/원천데이터/견적서/as-0004281.json'\n",
    "output_jsonpath = os.getenv('HOME')+'/aiffel/mini_aiffelton/training/원천데이터/견적서/as-0004281.json'\n",
    "with open(output_jsonpath, 'w', encoding = 'utf-8-sig') as f:\n",
    "    output_json = json.dumps(output_jsonpath, ensure_ascii=False, indent = '\\t')\n",
    "    f.write(output_json)\n",
    "#     data = json.load(fp)\n",
    "   \n",
    "print(json.dumps(data, ensure_ascii=False))\n",
    "#print(json.dumps(data, indent = \"\\t\", ensure_ascii=False))"
   ]
  },
  {
   "cell_type": "code",
   "execution_count": null,
   "id": "dfdfb8ab",
   "metadata": {},
   "outputs": [],
   "source": [
    "# file_path = os.getenv('HOME')+'/aiffel/mini_aiffelton/training/원천데이터/견적서/as-0004281.json'\n",
    "output_jsonpath = os.getenv('HOME')+'/aiffel/mini_aiffelton/training/원천데이터/견적서/sc-1004888.json'\n",
    "with open(output_jsonpath, 'w', encoding = 'utf-8-sig') as f:\n",
    "    output_json = json.dumps(output_jsonpath, ensure_ascii=False, indent = '\\t')\n",
    "    f.write(output_json)\n",
    "#     data = json.load(fp)\n",
    "   \n",
    "print(json.dumps(data, ensure_ascii=False))\n",
    "#print(json.dumps(data, indent = \"\\t\", ensure_ascii=False))"
   ]
  },
  {
   "cell_type": "code",
   "execution_count": null,
   "id": "8e26cf2f",
   "metadata": {},
   "outputs": [],
   "source": []
  },
  {
   "cell_type": "code",
   "execution_count": null,
   "id": "130eb42c",
   "metadata": {},
   "outputs": [],
   "source": [
    "file_path_p_140987 = os.getenv('HOME')+'/aiffel/mini_aiffelton/Validation/라벨링데이터/damage/0548838_sc-140987.json'\n",
    "\n",
    "with open(file_path, 'r') as fp:\n",
    "    data = json.load(fp)"
   ]
  },
  {
   "cell_type": "code",
   "execution_count": null,
   "id": "d2be343d",
   "metadata": {},
   "outputs": [],
   "source": []
  }
 ],
 "metadata": {
  "kernelspec": {
   "display_name": "Python 3 (ipykernel)",
   "language": "python",
   "name": "python3"
  },
  "language_info": {
   "codemirror_mode": {
    "name": "ipython",
    "version": 3
   },
   "file_extension": ".py",
   "mimetype": "text/x-python",
   "name": "python",
   "nbconvert_exporter": "python",
   "pygments_lexer": "ipython3",
   "version": "3.9.7"
  }
 },
 "nbformat": 4,
 "nbformat_minor": 5
}
